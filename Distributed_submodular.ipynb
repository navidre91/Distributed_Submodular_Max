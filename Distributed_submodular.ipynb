{
  "nbformat": 4,
  "nbformat_minor": 0,
  "metadata": {
    "colab": {
      "name": "Distributed submodular.ipynb",
      "provenance": [],
      "authorship_tag": "ABX9TyPBlOxLsTxhRCOOfUu1vKpe",
      "include_colab_link": true
    },
    "kernelspec": {
      "name": "python3",
      "display_name": "Python 3"
    }
  },
  "cells": [
    {
      "cell_type": "markdown",
      "metadata": {
        "id": "view-in-github",
        "colab_type": "text"
      },
      "source": [
        "<a href=\"https://colab.research.google.com/github/navidre91/Distributed_Submodular_Max/blob/master/Distributed_submodular.ipynb\" target=\"_parent\"><img src=\"https://colab.research.google.com/assets/colab-badge.svg\" alt=\"Open In Colab\"/></a>"
      ]
    },
    {
      "cell_type": "code",
      "metadata": {
        "id": "x2tXwfXQ_OZ_"
      },
      "source": [
        "import numpy as np\n",
        "from plotly.offline import iplot\n",
        "import plotly.graph_objs as go\n",
        "from plotly.subplots import make_subplots\n",
        "from numpy import linalg as LA\n",
        "from numpy import random\n"
      ],
      "execution_count": 79,
      "outputs": []
    },
    {
      "cell_type": "markdown",
      "metadata": {
        "id": "NriOV3EWREFj"
      },
      "source": [
        "A field that has 5*5 locations for sensor placement. which are distributed like a grid in the field. they are seprated 1 unit apart. Also the very left,right,top and bottom points are 1 unit apart from the edge of the field.\n",
        "4 agents are to be placed in 4 of the nodes in the grid. \n",
        "There 10 events distributed randomly in the field. "
      ]
    },
    {
      "cell_type": "code",
      "metadata": {
        "id": "sVGHg0oObkkU",
        "outputId": "6168cebd-422e-4ce5-8427-6cafdb81e1a1",
        "colab": {
          "base_uri": "https://localhost:8080/",
          "height": 454
        }
      },
      "source": [
        "event_count=50\n",
        "map_dim=5\n",
        "agent_count=5\n",
        "policy_count=agent_count*map_dim*map_dim\n",
        "agent_sense_radius=np.array([1.3,2,2.3,0.7,1.6])\n",
        "\n",
        "def event_generator(event_count,map_dim):\n",
        "  event_location=np.empty((2,event_count))\n",
        "\n",
        "  for i in range(event_count):\n",
        "    event_location[0,i]=random.rand()*(map_dim+1)\n",
        "    event_location[1,i]=random.rand()*(map_dim+1)\n",
        "  return(event_location)\n",
        "\n",
        "event_location=event_generator(event_count,map_dim)\n",
        "print(event_location)\n"
      ],
      "execution_count": 80,
      "outputs": [
        {
          "output_type": "stream",
          "text": [
            "[[3.18297503e+00 4.30769594e+00 3.26363612e+00 1.58664622e+00\n",
            "  4.36245311e-01 2.67858306e+00 3.71707750e+00 2.89712725e+00\n",
            "  1.69549741e+00 3.25066521e+00 5.64011821e+00 1.49719724e+00\n",
            "  3.56861245e+00 3.41667255e+00 2.99168178e+00 2.24365734e-03\n",
            "  8.34211913e-01 4.33825215e+00 9.84324425e-01 2.58559024e+00\n",
            "  3.46320639e+00 5.08296215e+00 5.48632805e+00 2.57299811e+00\n",
            "  5.51952945e+00 5.27888857e-01 4.66019821e+00 3.16003075e+00\n",
            "  2.65615139e+00 2.29888279e+00 2.80518451e+00 8.48492414e-01\n",
            "  2.63680160e+00 1.47215969e+00 7.92089604e-01 2.32255445e+00\n",
            "  4.06442057e-01 3.23085548e+00 8.40275196e-01 2.03684787e+00\n",
            "  5.71883275e+00 1.84526776e+00 4.87566175e-01 5.77260147e+00\n",
            "  1.96382231e+00 3.08887316e+00 2.58562196e+00 5.74220237e+00\n",
            "  3.23708740e+00 3.29781471e+00]\n",
            " [3.02317458e+00 1.13393143e+00 1.71049590e+00 3.43180785e+00\n",
            "  3.53605367e+00 5.51708333e+00 1.08268324e+00 7.60860345e-01\n",
            "  9.29942690e-01 2.71045341e+00 2.45793405e+00 3.27869901e+00\n",
            "  5.44952663e+00 7.64062248e-01 2.82162250e+00 4.04083209e+00\n",
            "  1.08925772e+00 5.46678218e+00 9.03807069e-01 3.75394648e+00\n",
            "  4.42222695e+00 4.14403829e+00 5.10727955e+00 3.98031437e+00\n",
            "  5.89764297e+00 9.77235760e-02 7.52698348e-01 3.32679450e+00\n",
            "  3.95316388e+00 3.53630749e+00 4.91711421e-01 5.22903379e+00\n",
            "  2.43824066e+00 3.52351255e+00 8.70068827e-01 5.71723614e+00\n",
            "  3.47540653e+00 3.49257868e+00 3.97864834e+00 2.99524671e-03\n",
            "  3.49300571e+00 1.04368226e+00 7.54807841e-01 3.65040861e+00\n",
            "  4.06531591e+00 1.42433382e-02 1.47054797e+00 4.02841005e+00\n",
            "  3.40396652e+00 1.43070492e+00]]\n"
          ],
          "name": "stdout"
        }
      ]
    },
    {
      "cell_type": "code",
      "metadata": {
        "id": "wUWHnRKlANJ4",
        "outputId": "34dbaf6e-96c1-4b00-9408-e31d7391d092",
        "colab": {
          "base_uri": "https://localhost:8080/",
          "height": 417
        }
      },
      "source": [
        "fig = go.Figure()\n",
        "\n",
        "fig.update_layout(\n",
        "    autosize=False,\n",
        "    width=400,\n",
        "    height=400,\n",
        "    legend=dict(x=0.5, y=1),\n",
        "    showlegend=False,\n",
        "    font=dict(\n",
        "        size=16,\n",
        "        color=\"#7f7f7f\",\n",
        "        family=\"Courier New, monospace\"\n",
        "    ),\n",
        "    template=\"simple_white\",\n",
        "    xaxis = dict(\n",
        "        title = r'$x$',\n",
        "        title_standoff = 0\n",
        "    ),\n",
        "    yaxis = dict(\n",
        "        title = r'$y$',\n",
        "        title_standoff = 0\n",
        "    )\n",
        ")\n",
        "\n",
        "for i in range(map_dim+2):\n",
        "  for j in range(map_dim+2):\n",
        "    fig.add_trace(go.Scatter(\n",
        "        x=[j],y=[i],\n",
        "        line = dict(color='gray',width=1),\n",
        "    ))\n",
        "\n",
        "fig.add_trace(go.Scatter(\n",
        "    x=event_location[0,:],y=event_location[1,:],\n",
        "    mode='markers',\n",
        "    line = dict(color='red',width=1),\n",
        "  ))\n",
        "\n",
        "\n",
        "\n",
        "fig.show()"
      ],
      "execution_count": 81,
      "outputs": [
        {
          "output_type": "display_data",
          "data": {
            "text/html": [
              "<html>\n",
              "<head><meta charset=\"utf-8\" /></head>\n",
              "<body>\n",
              "    <div>\n",
              "            <script src=\"https://cdnjs.cloudflare.com/ajax/libs/mathjax/2.7.5/MathJax.js?config=TeX-AMS-MML_SVG\"></script><script type=\"text/javascript\">if (window.MathJax) {MathJax.Hub.Config({SVG: {font: \"STIX-Web\"}});}</script>\n",
              "                <script type=\"text/javascript\">window.PlotlyConfig = {MathJaxConfig: 'local'};</script>\n",
              "        <script src=\"https://cdn.plot.ly/plotly-latest.min.js\"></script>    \n",
              "            <div id=\"1921666c-0e3c-45de-8f4d-662e4049c09a\" class=\"plotly-graph-div\" style=\"height:400px; width:400px;\"></div>\n",
              "            <script type=\"text/javascript\">\n",
              "                \n",
              "                    window.PLOTLYENV=window.PLOTLYENV || {};\n",
              "                    \n",
              "                if (document.getElementById(\"1921666c-0e3c-45de-8f4d-662e4049c09a\")) {\n",
              "                    Plotly.newPlot(\n",
              "                        '1921666c-0e3c-45de-8f4d-662e4049c09a',\n",
              "                        [{\"line\": {\"color\": \"gray\", \"width\": 1}, \"type\": \"scatter\", \"x\": [0], \"y\": [0]}, {\"line\": {\"color\": \"gray\", \"width\": 1}, \"type\": \"scatter\", \"x\": [1], \"y\": [0]}, {\"line\": {\"color\": \"gray\", \"width\": 1}, \"type\": \"scatter\", \"x\": [2], \"y\": [0]}, {\"line\": {\"color\": \"gray\", \"width\": 1}, \"type\": \"scatter\", \"x\": [3], \"y\": [0]}, {\"line\": {\"color\": \"gray\", \"width\": 1}, \"type\": \"scatter\", \"x\": [4], \"y\": [0]}, {\"line\": {\"color\": \"gray\", \"width\": 1}, \"type\": \"scatter\", \"x\": [5], \"y\": [0]}, {\"line\": {\"color\": \"gray\", \"width\": 1}, \"type\": \"scatter\", \"x\": [6], \"y\": [0]}, {\"line\": {\"color\": \"gray\", \"width\": 1}, \"type\": \"scatter\", \"x\": [0], \"y\": [1]}, {\"line\": {\"color\": \"gray\", \"width\": 1}, \"type\": \"scatter\", \"x\": [1], \"y\": [1]}, {\"line\": {\"color\": \"gray\", \"width\": 1}, \"type\": \"scatter\", \"x\": [2], \"y\": [1]}, {\"line\": {\"color\": \"gray\", \"width\": 1}, \"type\": \"scatter\", \"x\": [3], \"y\": [1]}, {\"line\": {\"color\": \"gray\", \"width\": 1}, \"type\": \"scatter\", \"x\": [4], \"y\": [1]}, {\"line\": {\"color\": \"gray\", \"width\": 1}, \"type\": \"scatter\", \"x\": [5], \"y\": [1]}, {\"line\": {\"color\": \"gray\", \"width\": 1}, \"type\": \"scatter\", \"x\": [6], \"y\": [1]}, {\"line\": {\"color\": \"gray\", \"width\": 1}, \"type\": \"scatter\", \"x\": [0], \"y\": [2]}, {\"line\": {\"color\": \"gray\", \"width\": 1}, \"type\": \"scatter\", \"x\": [1], \"y\": [2]}, {\"line\": {\"color\": \"gray\", \"width\": 1}, \"type\": \"scatter\", \"x\": [2], \"y\": [2]}, {\"line\": {\"color\": \"gray\", \"width\": 1}, \"type\": \"scatter\", \"x\": [3], \"y\": [2]}, {\"line\": {\"color\": \"gray\", \"width\": 1}, \"type\": \"scatter\", \"x\": [4], \"y\": [2]}, {\"line\": {\"color\": \"gray\", \"width\": 1}, \"type\": \"scatter\", \"x\": [5], \"y\": [2]}, {\"line\": {\"color\": \"gray\", \"width\": 1}, \"type\": \"scatter\", \"x\": [6], \"y\": [2]}, {\"line\": {\"color\": \"gray\", \"width\": 1}, \"type\": \"scatter\", \"x\": [0], \"y\": [3]}, {\"line\": {\"color\": \"gray\", \"width\": 1}, \"type\": \"scatter\", \"x\": [1], \"y\": [3]}, {\"line\": {\"color\": \"gray\", \"width\": 1}, \"type\": \"scatter\", \"x\": [2], \"y\": [3]}, {\"line\": {\"color\": \"gray\", \"width\": 1}, \"type\": \"scatter\", \"x\": [3], \"y\": [3]}, {\"line\": {\"color\": \"gray\", \"width\": 1}, \"type\": \"scatter\", \"x\": [4], \"y\": [3]}, {\"line\": {\"color\": \"gray\", \"width\": 1}, \"type\": \"scatter\", \"x\": [5], \"y\": [3]}, {\"line\": {\"color\": \"gray\", \"width\": 1}, \"type\": \"scatter\", \"x\": [6], \"y\": [3]}, {\"line\": {\"color\": \"gray\", \"width\": 1}, \"type\": \"scatter\", \"x\": [0], \"y\": [4]}, {\"line\": {\"color\": \"gray\", \"width\": 1}, \"type\": \"scatter\", \"x\": [1], \"y\": [4]}, {\"line\": {\"color\": \"gray\", \"width\": 1}, \"type\": \"scatter\", \"x\": [2], \"y\": [4]}, {\"line\": {\"color\": \"gray\", \"width\": 1}, \"type\": \"scatter\", \"x\": [3], \"y\": [4]}, {\"line\": {\"color\": \"gray\", \"width\": 1}, \"type\": \"scatter\", \"x\": [4], \"y\": [4]}, {\"line\": {\"color\": \"gray\", \"width\": 1}, \"type\": \"scatter\", \"x\": [5], \"y\": [4]}, {\"line\": {\"color\": \"gray\", \"width\": 1}, \"type\": \"scatter\", \"x\": [6], \"y\": [4]}, {\"line\": {\"color\": \"gray\", \"width\": 1}, \"type\": \"scatter\", \"x\": [0], \"y\": [5]}, {\"line\": {\"color\": \"gray\", \"width\": 1}, \"type\": \"scatter\", \"x\": [1], \"y\": [5]}, {\"line\": {\"color\": \"gray\", \"width\": 1}, \"type\": \"scatter\", \"x\": [2], \"y\": [5]}, {\"line\": {\"color\": \"gray\", \"width\": 1}, \"type\": \"scatter\", \"x\": [3], \"y\": [5]}, {\"line\": {\"color\": \"gray\", \"width\": 1}, \"type\": \"scatter\", \"x\": [4], \"y\": [5]}, {\"line\": {\"color\": \"gray\", \"width\": 1}, \"type\": \"scatter\", \"x\": [5], \"y\": [5]}, {\"line\": {\"color\": \"gray\", \"width\": 1}, \"type\": \"scatter\", \"x\": [6], \"y\": [5]}, {\"line\": {\"color\": \"gray\", \"width\": 1}, \"type\": \"scatter\", \"x\": [0], \"y\": [6]}, {\"line\": {\"color\": \"gray\", \"width\": 1}, \"type\": \"scatter\", \"x\": [1], \"y\": [6]}, {\"line\": {\"color\": \"gray\", \"width\": 1}, \"type\": \"scatter\", \"x\": [2], \"y\": [6]}, {\"line\": {\"color\": \"gray\", \"width\": 1}, \"type\": \"scatter\", \"x\": [3], \"y\": [6]}, {\"line\": {\"color\": \"gray\", \"width\": 1}, \"type\": \"scatter\", \"x\": [4], \"y\": [6]}, {\"line\": {\"color\": \"gray\", \"width\": 1}, \"type\": \"scatter\", \"x\": [5], \"y\": [6]}, {\"line\": {\"color\": \"gray\", \"width\": 1}, \"type\": \"scatter\", \"x\": [6], \"y\": [6]}, {\"line\": {\"color\": \"red\", \"width\": 1}, \"mode\": \"markers\", \"type\": \"scatter\", \"x\": [3.1829750255587665, 4.307695935735282, 3.26363611734125, 1.5866462215154116, 0.43624531098329333, 2.6785830615346953, 3.717077498079349, 2.8971272501978342, 1.6954974130688072, 3.2506652058429157, 5.640118214977159, 1.497197237050513, 3.5686124453166785, 3.416672549135994, 2.991681779770392, 0.0022436573424942097, 0.8342119129898853, 4.33825215046927, 0.9843244246721057, 2.585590241857721, 3.463206392897993, 5.082962152383301, 5.486328049609264, 2.572998111591839, 5.519529446102361, 0.5278888569682065, 4.660198208672606, 3.160030745987247, 2.6561513911905514, 2.2988827948898987, 2.8051845138514646, 0.8484924135168614, 2.6368015966583194, 1.472159692020449, 0.7920896035709883, 2.3225544501909425, 0.4064420567529581, 3.230855479703812, 0.8402751961029191, 2.036847867960007, 5.718832752063303, 1.8452677551575085, 0.48756617511515654, 5.772601472161162, 1.963822313165712, 3.088873157679034, 2.5856219554819164, 5.742202374282421, 3.237087397130505, 3.297814713528777], \"y\": [3.023174577886912, 1.1339314279326946, 1.7104959045498684, 3.4318078509400216, 3.536053673476241, 5.517083334861091, 1.0826832421267203, 0.760860345046801, 0.9299426903195402, 2.710453412055629, 2.4579340521023783, 3.2786990104140283, 5.44952662556052, 0.7640622475472638, 2.82162249678589, 4.040832086753163, 1.0892577224987934, 5.466782180833527, 0.9038070689752555, 3.753946475369892, 4.422226948290546, 4.144038287724964, 5.107279550472075, 3.9803143701641606, 5.897642967633373, 0.09772357595940062, 0.7526983480346079, 3.3267944977020414, 3.9531638801406297, 3.5363074912019883, 0.4917114214376648, 5.229033786207644, 2.438240657245082, 3.5235125455868443, 0.8700688265314815, 5.717236144221536, 3.4754065262944334, 3.492578681285604, 3.9786483414969775, 0.0029952467079636946, 3.493005706176559, 1.0436822619331536, 0.7548078411058607, 3.6504086117301413, 4.065315912347939, 0.014243338208822731, 1.4705479695258867, 4.028410051199235, 3.403966518969157, 1.4307049170190629]}],\n",
              "                        {\"autosize\": false, \"font\": {\"color\": \"#7f7f7f\", \"family\": \"Courier New, monospace\", \"size\": 16}, \"height\": 400, \"legend\": {\"x\": 0.5, \"y\": 1}, \"showlegend\": false, \"template\": {\"data\": {\"bar\": [{\"error_x\": {\"color\": \"rgb(36,36,36)\"}, \"error_y\": {\"color\": \"rgb(36,36,36)\"}, \"marker\": {\"line\": {\"color\": \"white\", \"width\": 0.5}}, \"type\": \"bar\"}], \"barpolar\": [{\"marker\": {\"line\": {\"color\": \"white\", \"width\": 0.5}}, \"type\": \"barpolar\"}], \"carpet\": [{\"aaxis\": {\"endlinecolor\": \"rgb(36,36,36)\", \"gridcolor\": \"white\", \"linecolor\": \"white\", \"minorgridcolor\": \"white\", \"startlinecolor\": \"rgb(36,36,36)\"}, \"baxis\": {\"endlinecolor\": \"rgb(36,36,36)\", \"gridcolor\": \"white\", \"linecolor\": \"white\", \"minorgridcolor\": \"white\", \"startlinecolor\": \"rgb(36,36,36)\"}, \"type\": \"carpet\"}], \"choropleth\": [{\"colorbar\": {\"outlinewidth\": 10, \"tickcolor\": \"rgb(36,36,36)\", \"ticklen\": 8, \"ticks\": \"outside\", \"tickwidth\": 2}, \"type\": \"choropleth\"}], \"contour\": [{\"colorbar\": {\"outlinewidth\": 10, \"tickcolor\": \"rgb(36,36,36)\", \"ticklen\": 8, \"ticks\": \"outside\", \"tickwidth\": 2}, \"colorscale\": [[0.0, \"#440154\"], [0.1111111111111111, \"#482878\"], [0.2222222222222222, \"#3e4989\"], [0.3333333333333333, \"#31688e\"], [0.4444444444444444, \"#26828e\"], [0.5555555555555556, \"#1f9e89\"], [0.6666666666666666, \"#35b779\"], [0.7777777777777778, \"#6ece58\"], [0.8888888888888888, \"#b5de2b\"], [1.0, \"#fde725\"]], \"type\": \"contour\"}], \"contourcarpet\": [{\"colorbar\": {\"outlinewidth\": 10, \"tickcolor\": \"rgb(36,36,36)\", \"ticklen\": 8, \"ticks\": \"outside\", \"tickwidth\": 2}, \"type\": \"contourcarpet\"}], \"heatmap\": [{\"colorbar\": {\"outlinewidth\": 10, \"tickcolor\": \"rgb(36,36,36)\", \"ticklen\": 8, \"ticks\": \"outside\", \"tickwidth\": 2}, \"colorscale\": [[0.0, \"#440154\"], [0.1111111111111111, \"#482878\"], [0.2222222222222222, \"#3e4989\"], [0.3333333333333333, \"#31688e\"], [0.4444444444444444, \"#26828e\"], [0.5555555555555556, \"#1f9e89\"], [0.6666666666666666, \"#35b779\"], [0.7777777777777778, \"#6ece58\"], [0.8888888888888888, \"#b5de2b\"], [1.0, \"#fde725\"]], \"type\": \"heatmap\"}], \"heatmapgl\": [{\"colorbar\": {\"outlinewidth\": 10, \"tickcolor\": \"rgb(36,36,36)\", \"ticklen\": 8, \"ticks\": \"outside\", \"tickwidth\": 2}, \"colorscale\": [[0.0, \"#440154\"], [0.1111111111111111, \"#482878\"], [0.2222222222222222, \"#3e4989\"], [0.3333333333333333, \"#31688e\"], [0.4444444444444444, \"#26828e\"], [0.5555555555555556, \"#1f9e89\"], [0.6666666666666666, \"#35b779\"], [0.7777777777777778, \"#6ece58\"], [0.8888888888888888, \"#b5de2b\"], [1.0, \"#fde725\"]], \"type\": \"heatmapgl\"}], \"histogram\": [{\"marker\": {\"line\": {\"color\": \"white\", \"width\": 0.6}}, \"type\": \"histogram\"}], \"histogram2d\": [{\"colorbar\": {\"outlinewidth\": 10, \"tickcolor\": \"rgb(36,36,36)\", \"ticklen\": 8, \"ticks\": \"outside\", \"tickwidth\": 2}, \"colorscale\": [[0.0, \"#440154\"], [0.1111111111111111, \"#482878\"], [0.2222222222222222, \"#3e4989\"], [0.3333333333333333, \"#31688e\"], [0.4444444444444444, \"#26828e\"], [0.5555555555555556, \"#1f9e89\"], [0.6666666666666666, \"#35b779\"], [0.7777777777777778, \"#6ece58\"], [0.8888888888888888, \"#b5de2b\"], [1.0, \"#fde725\"]], \"type\": \"histogram2d\"}], \"histogram2dcontour\": [{\"colorbar\": {\"outlinewidth\": 10, \"tickcolor\": \"rgb(36,36,36)\", \"ticklen\": 8, \"ticks\": \"outside\", \"tickwidth\": 2}, \"colorscale\": [[0.0, \"#440154\"], [0.1111111111111111, \"#482878\"], [0.2222222222222222, \"#3e4989\"], [0.3333333333333333, \"#31688e\"], [0.4444444444444444, \"#26828e\"], [0.5555555555555556, \"#1f9e89\"], [0.6666666666666666, \"#35b779\"], [0.7777777777777778, \"#6ece58\"], [0.8888888888888888, \"#b5de2b\"], [1.0, \"#fde725\"]], \"type\": \"histogram2dcontour\"}], \"mesh3d\": [{\"colorbar\": {\"outlinewidth\": 10, \"tickcolor\": \"rgb(36,36,36)\", \"ticklen\": 8, \"ticks\": \"outside\", \"tickwidth\": 2}, \"type\": \"mesh3d\"}], \"parcoords\": [{\"line\": {\"colorbar\": {\"outlinewidth\": 10, \"tickcolor\": \"rgb(36,36,36)\", \"ticklen\": 8, \"ticks\": \"outside\", \"tickwidth\": 2}}, \"type\": \"parcoords\"}], \"pie\": [{\"automargin\": true, \"type\": \"pie\"}], \"scatter\": [{\"marker\": {\"colorbar\": {\"outlinewidth\": 10, \"tickcolor\": \"rgb(36,36,36)\", \"ticklen\": 8, \"ticks\": \"outside\", \"tickwidth\": 2}}, \"type\": \"scatter\"}], \"scatter3d\": [{\"line\": {\"colorbar\": {\"outlinewidth\": 10, \"tickcolor\": \"rgb(36,36,36)\", \"ticklen\": 8, \"ticks\": \"outside\", \"tickwidth\": 2}}, \"marker\": {\"colorbar\": {\"outlinewidth\": 10, \"tickcolor\": \"rgb(36,36,36)\", \"ticklen\": 8, \"ticks\": \"outside\", \"tickwidth\": 2}}, \"type\": \"scatter3d\"}], \"scattercarpet\": [{\"marker\": {\"colorbar\": {\"outlinewidth\": 10, \"tickcolor\": \"rgb(36,36,36)\", \"ticklen\": 8, \"ticks\": \"outside\", \"tickwidth\": 2}}, \"type\": \"scattercarpet\"}], \"scattergeo\": [{\"marker\": {\"colorbar\": {\"outlinewidth\": 10, \"tickcolor\": \"rgb(36,36,36)\", \"ticklen\": 8, \"ticks\": \"outside\", \"tickwidth\": 2}}, \"type\": \"scattergeo\"}], \"scattergl\": [{\"marker\": {\"colorbar\": {\"outlinewidth\": 10, \"tickcolor\": \"rgb(36,36,36)\", \"ticklen\": 8, \"ticks\": \"outside\", \"tickwidth\": 2}}, \"type\": \"scattergl\"}], \"scattermapbox\": [{\"marker\": {\"colorbar\": {\"outlinewidth\": 10, \"tickcolor\": \"rgb(36,36,36)\", \"ticklen\": 8, \"ticks\": \"outside\", \"tickwidth\": 2}}, \"type\": \"scattermapbox\"}], \"scatterpolar\": [{\"marker\": {\"colorbar\": {\"outlinewidth\": 10, \"tickcolor\": \"rgb(36,36,36)\", \"ticklen\": 8, \"ticks\": \"outside\", \"tickwidth\": 2}}, \"type\": \"scatterpolar\"}], \"scatterpolargl\": [{\"marker\": {\"colorbar\": {\"outlinewidth\": 10, \"tickcolor\": \"rgb(36,36,36)\", \"ticklen\": 8, \"ticks\": \"outside\", \"tickwidth\": 2}}, \"type\": \"scatterpolargl\"}], \"scatterternary\": [{\"marker\": {\"colorbar\": {\"outlinewidth\": 10, \"tickcolor\": \"rgb(36,36,36)\", \"ticklen\": 8, \"ticks\": \"outside\", \"tickwidth\": 2}}, \"type\": \"scatterternary\"}], \"surface\": [{\"colorbar\": {\"outlinewidth\": 10, \"tickcolor\": \"rgb(36,36,36)\", \"ticklen\": 8, \"ticks\": \"outside\", \"tickwidth\": 2}, \"colorscale\": [[0.0, \"#440154\"], [0.1111111111111111, \"#482878\"], [0.2222222222222222, \"#3e4989\"], [0.3333333333333333, \"#31688e\"], [0.4444444444444444, \"#26828e\"], [0.5555555555555556, \"#1f9e89\"], [0.6666666666666666, \"#35b779\"], [0.7777777777777778, \"#6ece58\"], [0.8888888888888888, \"#b5de2b\"], [1.0, \"#fde725\"]], \"type\": \"surface\"}], \"table\": [{\"cells\": {\"fill\": {\"color\": \"rgb(237,237,237)\"}, \"line\": {\"color\": \"white\"}}, \"header\": {\"fill\": {\"color\": \"rgb(217,217,217)\"}, \"line\": {\"color\": \"white\"}}, \"type\": \"table\"}]}, \"layout\": {\"annotationdefaults\": {\"arrowhead\": 0, \"arrowwidth\": 1}, \"coloraxis\": {\"colorbar\": {\"outlinewidth\": 10, \"tickcolor\": \"rgb(36,36,36)\", \"ticklen\": 8, \"ticks\": \"outside\", \"tickwidth\": 2}}, \"colorscale\": {\"diverging\": [[0.0, \"rgb(103,0,31)\"], [0.1, \"rgb(178,24,43)\"], [0.2, \"rgb(214,96,77)\"], [0.3, \"rgb(244,165,130)\"], [0.4, \"rgb(253,219,199)\"], [0.5, \"rgb(247,247,247)\"], [0.6, \"rgb(209,229,240)\"], [0.7, \"rgb(146,197,222)\"], [0.8, \"rgb(67,147,195)\"], [0.9, \"rgb(33,102,172)\"], [1.0, \"rgb(5,48,97)\"]], \"sequential\": [[0.0, \"#440154\"], [0.1111111111111111, \"#482878\"], [0.2222222222222222, \"#3e4989\"], [0.3333333333333333, \"#31688e\"], [0.4444444444444444, \"#26828e\"], [0.5555555555555556, \"#1f9e89\"], [0.6666666666666666, \"#35b779\"], [0.7777777777777778, \"#6ece58\"], [0.8888888888888888, \"#b5de2b\"], [1.0, \"#fde725\"]], \"sequentialminus\": [[0.0, \"#440154\"], [0.1111111111111111, \"#482878\"], [0.2222222222222222, \"#3e4989\"], [0.3333333333333333, \"#31688e\"], [0.4444444444444444, \"#26828e\"], [0.5555555555555556, \"#1f9e89\"], [0.6666666666666666, \"#35b779\"], [0.7777777777777778, \"#6ece58\"], [0.8888888888888888, \"#b5de2b\"], [1.0, \"#fde725\"]]}, \"colorway\": [\"#1F77B4\", \"#FF7F0E\", \"#2CA02C\", \"#D62728\", \"#9467BD\", \"#8C564B\", \"#E377C2\", \"#7F7F7F\", \"#BCBD22\", \"#17BECF\"], \"font\": {\"color\": \"rgb(36,36,36)\"}, \"geo\": {\"bgcolor\": \"white\", \"lakecolor\": \"white\", \"landcolor\": \"white\", \"showlakes\": true, \"showland\": true, \"subunitcolor\": \"white\"}, \"hoverlabel\": {\"align\": \"left\"}, \"hovermode\": \"closest\", \"mapbox\": {\"style\": \"light\"}, \"paper_bgcolor\": \"white\", \"plot_bgcolor\": \"white\", \"polar\": {\"angularaxis\": {\"gridcolor\": \"rgb(232,232,232)\", \"linecolor\": \"rgb(36,36,36)\", \"showgrid\": false, \"showline\": true, \"ticks\": \"outside\"}, \"bgcolor\": \"white\", \"radialaxis\": {\"gridcolor\": \"rgb(232,232,232)\", \"linecolor\": \"rgb(36,36,36)\", \"showgrid\": false, \"showline\": true, \"ticks\": \"outside\"}}, \"scene\": {\"xaxis\": {\"backgroundcolor\": \"white\", \"gridcolor\": \"rgb(232,232,232)\", \"gridwidth\": 2, \"linecolor\": \"rgb(36,36,36)\", \"showbackground\": true, \"showgrid\": false, \"showline\": true, \"ticks\": \"outside\", \"zeroline\": false, \"zerolinecolor\": \"rgb(36,36,36)\"}, \"yaxis\": {\"backgroundcolor\": \"white\", \"gridcolor\": \"rgb(232,232,232)\", \"gridwidth\": 2, \"linecolor\": \"rgb(36,36,36)\", \"showbackground\": true, \"showgrid\": false, \"showline\": true, \"ticks\": \"outside\", \"zeroline\": false, \"zerolinecolor\": \"rgb(36,36,36)\"}, \"zaxis\": {\"backgroundcolor\": \"white\", \"gridcolor\": \"rgb(232,232,232)\", \"gridwidth\": 2, \"linecolor\": \"rgb(36,36,36)\", \"showbackground\": true, \"showgrid\": false, \"showline\": true, \"ticks\": \"outside\", \"zeroline\": false, \"zerolinecolor\": \"rgb(36,36,36)\"}}, \"shapedefaults\": {\"fillcolor\": \"black\", \"line\": {\"width\": 0}, \"opacity\": 0.3}, \"ternary\": {\"aaxis\": {\"gridcolor\": \"rgb(232,232,232)\", \"linecolor\": \"rgb(36,36,36)\", \"showgrid\": false, \"showline\": true, \"ticks\": \"outside\"}, \"baxis\": {\"gridcolor\": \"rgb(232,232,232)\", \"linecolor\": \"rgb(36,36,36)\", \"showgrid\": false, \"showline\": true, \"ticks\": \"outside\"}, \"bgcolor\": \"white\", \"caxis\": {\"gridcolor\": \"rgb(232,232,232)\", \"linecolor\": \"rgb(36,36,36)\", \"showgrid\": false, \"showline\": true, \"ticks\": \"outside\"}}, \"title\": {\"x\": 0.05}, \"xaxis\": {\"automargin\": true, \"gridcolor\": \"rgb(232,232,232)\", \"linecolor\": \"rgb(36,36,36)\", \"showgrid\": false, \"showline\": true, \"ticks\": \"outside\", \"title\": {\"standoff\": 15}, \"zeroline\": false, \"zerolinecolor\": \"rgb(36,36,36)\"}, \"yaxis\": {\"automargin\": true, \"gridcolor\": \"rgb(232,232,232)\", \"linecolor\": \"rgb(36,36,36)\", \"showgrid\": false, \"showline\": true, \"ticks\": \"outside\", \"title\": {\"standoff\": 15}, \"zeroline\": false, \"zerolinecolor\": \"rgb(36,36,36)\"}}}, \"width\": 400, \"xaxis\": {\"title\": {\"standoff\": 0, \"text\": \"$x$\"}}, \"yaxis\": {\"title\": {\"standoff\": 0, \"text\": \"$y$\"}}},\n",
              "                        {\"responsive\": true}\n",
              "                    ).then(function(){\n",
              "                            \n",
              "var gd = document.getElementById('1921666c-0e3c-45de-8f4d-662e4049c09a');\n",
              "var x = new MutationObserver(function (mutations, observer) {{\n",
              "        var display = window.getComputedStyle(gd).display;\n",
              "        if (!display || display === 'none') {{\n",
              "            console.log([gd, 'removed!']);\n",
              "            Plotly.purge(gd);\n",
              "            observer.disconnect();\n",
              "        }}\n",
              "}});\n",
              "\n",
              "// Listen for the removal of the full notebook cells\n",
              "var notebookContainer = gd.closest('#notebook-container');\n",
              "if (notebookContainer) {{\n",
              "    x.observe(notebookContainer, {childList: true});\n",
              "}}\n",
              "\n",
              "// Listen for the clearing of the current output cell\n",
              "var outputEl = gd.closest('.output');\n",
              "if (outputEl) {{\n",
              "    x.observe(outputEl, {childList: true});\n",
              "}}\n",
              "\n",
              "                        })\n",
              "                };\n",
              "                \n",
              "            </script>\n",
              "        </div>\n",
              "</body>\n",
              "</html>"
            ]
          },
          "metadata": {
            "tags": []
          }
        }
      ]
    },
    {
      "cell_type": "code",
      "metadata": {
        "id": "WOjj8ofMzabn"
      },
      "source": [
        "def policy2map(policy_num,map_dim):\n",
        "  policy_num_agent_wise=(policy_num-1)%(map_dim*map_dim)+1\n",
        "  y=int((policy_num_agent_wise-1)/map_dim)+1\n",
        "  x=(policy_num_agent_wise-1)%map_dim+1\n",
        "  coordination=np.array([[x],[y]])\n",
        "  return coordination\n",
        "\n",
        "def coverage(policy_vect,agent_sense_radius,event_location,map_dim):\n",
        "  count=0\n",
        "  policy_count=len(policy_vect)\n",
        "  agent_count=len(agent_sense_radius)\n",
        "  event_count=event_location.shape[1]\n",
        "  event_taken_ind = np.zeros((1,event_count))\n",
        "\n",
        "  for i in range(policy_count):\n",
        "    if policy_vect[i]==1:\n",
        "      agent = int(i/(map_dim*map_dim))\n",
        "      loc = policy2map(i+1,map_dim)\n",
        "      for j in range(event_count):\n",
        "        if event_taken_ind[0,j]==0:\n",
        "          if np.sqrt (  (loc[0]-event_location[0,j])*(loc[0]-event_location[0,j])  + (loc[1]-event_location[1,j])*(loc[1]-event_location[1,j]) ) < agent_sense_radius[agent]:\n",
        "            event_taken_ind[0,j]=1\n",
        "            count=count+1\n",
        "  return count\n"
      ],
      "execution_count": 82,
      "outputs": []
    },
    {
      "cell_type": "code",
      "metadata": {
        "id": "xUGgPvuPrazd"
      },
      "source": [
        "def rand_policy_gen(policy_prob_vect,sample_count):\n",
        "  policy_count = len(policy_prob_vect)\n",
        "  sampled_policies = np.zeros((policy_count,sample_count))\n",
        "  for i in range(policy_count):\n",
        "    prob=policy_prob_vect[i]\n",
        "    for j in range(sample_count):\n",
        "      rand=random.rand()\n",
        "      if prob>=rand:\n",
        "        sampled_policies[i,j]=1\n",
        "  return sampled_policies\n",
        "\n",
        "\n",
        "def stoch_gradient(policy_prob_vect,sample_count,agent_sense_radius,event_location,map_dim):\n",
        "  policy_count=len(policy_prob_vect)\n",
        "  stoch_gradient_vect=np.zeros((policy_count,1)) \n",
        "  policy_samples=rand_policy_gen(policy_prob_vect,sample_count)\n",
        "  for i in range(policy_count):\n",
        "    sum=0\n",
        "    for j in range(sample_count):\n",
        "      sample = (policy_samples[:,j])\n",
        "      sample_inc=np.copy(sample)\n",
        "      sample_inc[i]=1\n",
        "      sample_exc=np.copy(sample)\n",
        "      sample_exc[i]=0\n",
        "      sum=sum+coverage(sample_inc,agent_sense_radius,event_location,map_dim)-coverage(sample_exc,agent_sense_radius,event_location,map_dim)\n",
        "    stoch_gradient_vect[i]=float(sum/sample_count)\n",
        "  return stoch_gradient_vect\n",
        "\n",
        "def max_vect(vects):\n",
        "  n=vects.shape[0]\n",
        "  m=vects.shape[1]\n",
        "  max_v=np.zeros((n,))\n",
        "  for i in range(n):\n",
        "    max=0\n",
        "    for j in range(m):\n",
        "      if vects[i,j]>max:\n",
        "        max=vects[i,j]\n",
        "    max_v[i]=max\n",
        "  return max_v\n",
        "\n",
        "def max_grad_agent_wise(sto_grad,agent,agent_count,map_dim):\n",
        "  policy_count=agent_count*map_dim*map_dim\n",
        "  max=0\n",
        "  ind=-1\n",
        "  for i in range(agent*(map_dim*map_dim),(agent+1)*(map_dim*map_dim)):\n",
        "    if sto_grad[i]>max:\n",
        "      max=sto_grad[i]\n",
        "      ind=i\n",
        "  return ind"
      ],
      "execution_count": 83,
      "outputs": []
    },
    {
      "cell_type": "code",
      "metadata": {
        "id": "8D7bihpGW2zQ"
      },
      "source": [
        "sample_count=100\n",
        "T=100\n",
        "\n",
        "x=np.zeros((policy_count,agent_count))\n",
        "agent_sense_radius=np.array([1.3,2,2.3,0.7,1.6])\n",
        "for i in range(T):\n",
        "  print(i)\n",
        "  for j in range (agent_count):\n",
        "    sto_g=stoch_gradient(x[:,j],sample_count,agent_sense_radius,event_location,map_dim)\n",
        "    ind=max_grad_agent_wise(sto_g,j,agent_count,map_dim)\n",
        "    x[ind,j]=x[ind,j]+1/T\n",
        "  x[:,0]=max_vect( np.copy((x[:,[0,1,2]])))\n",
        "  x[:,1]=max_vect( np.copy((x[:,[0,1,3]])))\n",
        "  x[:,2]=max_vect( np.copy((x[:,[0,2]])))\n",
        "  x[:,3]=max_vect( np.copy((x[:,[1,3,4]])))\n",
        "  x[:,4]=max_vect( np.copy((x[:,[3,4]])))\n",
        "  "
      ],
      "execution_count": null,
      "outputs": []
    },
    {
      "cell_type": "code",
      "metadata": {
        "id": "ECi04MJYdEC1"
      },
      "source": [
        "print(x)"
      ],
      "execution_count": null,
      "outputs": []
    }
  ]
}